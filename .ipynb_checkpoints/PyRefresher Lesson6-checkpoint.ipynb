{
 "cells": [
  {
   "cell_type": "code",
   "execution_count": 53,
   "metadata": {},
   "outputs": [],
   "source": [
    "#import webbrowser\n",
    "import fresh_tomatoes\n",
    "\n",
    "class Movie():\n",
    "    def __init__(self,movie_title,movie_storyline,poster_image,trailer_youtube):\n",
    "        self.title = movie_title\n",
    "        self.storyline = movie_storyline\n",
    "        self.poster_image_url = poster_image\n",
    "        self.trailer_youtube_url = trailer_youtube\n",
    "    \n",
    "    def show_trailer(self):\n",
    "        webbrowser.open(self.trailer_youtube_url)\n",
    "        "
   ]
  },
  {
   "cell_type": "code",
   "execution_count": 54,
   "metadata": {},
   "outputs": [],
   "source": [
    "toy_story=Movie(\"Toy Story\", \"A story of a boy with toys that are alive.\",\"http://upload.wikimedia.org/wikipedia/en/1/13/Toy_Story.jpg\",\"https://www.youtube.com/watch?v=vwyZH85NQC4\")"
   ]
  },
  {
   "cell_type": "code",
   "execution_count": 55,
   "metadata": {},
   "outputs": [],
   "source": [
    "toy_story1=Movie(\"Toy Story\", \"A story of a boy with toys that are alive.\",\"http://upload.wikimedia.org/wikipedia/en/1/13/Toy_Story.jpg\",\"https://www.youtube.com/watch?v=vwyZH85NQC4\")"
   ]
  },
  {
   "cell_type": "code",
   "execution_count": 56,
   "metadata": {},
   "outputs": [],
   "source": [
    "avatar = Movie(\"Avatar\",\"Aliens\",\"https://upload.wikimedia.org/wikipedia/sco/b/b0/Avatar-Teaser-Poster.jpg\",\"https://www.youtube.com/watch?v=-9ceBgWV8io\")"
   ]
  },
  {
   "cell_type": "code",
   "execution_count": 57,
   "metadata": {},
   "outputs": [],
   "source": [
    "avatar1 = Movie(\"Avatar\",\"Aliens\",\"https://upload.wikimedia.org/wikipedia/sco/b/b0/Avatar-Teaser-Poster.jpg\",\"https://www.youtube.com/watch?v=-9ceBgWV8io\")"
   ]
  },
  {
   "cell_type": "code",
   "execution_count": 58,
   "metadata": {},
   "outputs": [],
   "source": [
    "movies=[toy_story, avatar, toy_story1, avatar1]\n",
    "fresh_tomatoes.open_movies_page(movies)"
   ]
  }
 ],
 "metadata": {
  "kernelspec": {
   "display_name": "Python [conda env:aind]",
   "language": "python",
   "name": "conda-env-aind-py"
  },
  "language_info": {
   "codemirror_mode": {
    "name": "ipython",
    "version": 3
   },
   "file_extension": ".py",
   "mimetype": "text/x-python",
   "name": "python",
   "nbconvert_exporter": "python",
   "pygments_lexer": "ipython3",
   "version": "3.5.4"
  }
 },
 "nbformat": 4,
 "nbformat_minor": 2
}
