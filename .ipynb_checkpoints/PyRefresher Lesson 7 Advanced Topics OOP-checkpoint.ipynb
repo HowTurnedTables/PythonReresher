{
 "cells": [
  {
   "cell_type": "code",
   "execution_count": 8,
   "metadata": {},
   "outputs": [],
   "source": [
    "#import webbrowser\n",
    "import fresh_tomatoes\n",
    "\n",
    "class Movie():\n",
    "    \"\"\"View Movie information\"\"\"\n",
    "    VALID_RATINGS=[\"G\",\"PG\",\"PG-13\",\"R\"]\n",
    "    \n",
    "    def __init__(self,movie_title,movie_storyline,poster_image,trailer_youtube):\n",
    "        self.title = movie_title\n",
    "        self.storyline = movie_storyline\n",
    "        self.poster_image_url = poster_image\n",
    "        self.trailer_youtube_url = trailer_youtube\n",
    "    \n",
    "    def show_trailer(self):\n",
    "        webbrowser.open(self.trailer_youtube_url)\n",
    "        "
   ]
  },
  {
   "cell_type": "code",
   "execution_count": 9,
   "metadata": {},
   "outputs": [
    {
     "name": "stdout",
     "output_type": "stream",
     "text": [
      "['G', 'PG', 'PG-13', 'R']\n"
     ]
    }
   ],
   "source": [
    "print(Movie.VALID_RATINGS)"
   ]
  },
  {
   "cell_type": "code",
   "execution_count": 16,
   "metadata": {},
   "outputs": [
    {
     "name": "stdout",
     "output_type": "stream",
     "text": [
      "View Movie information\n",
      "Movie\n",
      "__main__\n"
     ]
    }
   ],
   "source": [
    "print(Movie.__doc__)\n",
    "print(Movie.__name__)\n",
    "print(Movie.__module__)"
   ]
  },
  {
   "cell_type": "code",
   "execution_count": 42,
   "metadata": {},
   "outputs": [],
   "source": [
    "class Parent():\n",
    "    def __init__(self,last_name,eye_color):\n",
    "        print(\"Parent Constructor Called\")\n",
    "        self.last_name=last_name\n",
    "        self.eye_color=eye_color\n",
    "    def show_info(self):\n",
    "        print(\"Eye Color - \"+self.eye_color)"
   ]
  },
  {
   "cell_type": "code",
   "execution_count": 46,
   "metadata": {},
   "outputs": [],
   "source": [
    "class Child(Parent):\n",
    "    def __init__(self,last_name,eye_color,number_of_toys):\n",
    "        print(\"child constructor called\")\n",
    "        Parent.__init__(self,last_name,eye_color)\n",
    "        self.number_of_toys = number_of_toys\n",
    "    def show_info(self):\n",
    "        print(\"Eye Color - \"+self.eye_color)\n",
    "        print(\"number_of_toys - \"+str(self.number_of_toys))"
   ]
  },
  {
   "cell_type": "code",
   "execution_count": 47,
   "metadata": {},
   "outputs": [
    {
     "name": "stdout",
     "output_type": "stream",
     "text": [
      "Parent Constructor Called\n",
      "Cyrus\n",
      "Eye Color - Blue\n"
     ]
    }
   ],
   "source": [
    "billy_cyrus = Parent(\"Cyrus\",\"Blue\")\n",
    "print(billy_cyrus.last_name)\n",
    "billy_cyrus.show_info()"
   ]
  },
  {
   "cell_type": "code",
   "execution_count": 48,
   "metadata": {},
   "outputs": [
    {
     "name": "stdout",
     "output_type": "stream",
     "text": [
      "child constructor called\n",
      "Parent Constructor Called\n",
      "Cyrus\n",
      "4\n",
      "Eye Color - Blue\n",
      "number_of_toys - 4\n"
     ]
    }
   ],
   "source": [
    "miley_cyrus = Child(\"Cyrus\",\"Blue\",4)\n",
    "print(miley_cyrus.last_name)\n",
    "print(miley_cyrus.number_of_toys)\n",
    "miley_cyrus.show_info()"
   ]
  },
  {
   "cell_type": "code",
   "execution_count": null,
   "metadata": {},
   "outputs": [],
   "source": []
  }
 ],
 "metadata": {
  "kernelspec": {
   "display_name": "Python [conda env:aind]",
   "language": "python",
   "name": "conda-env-aind-py"
  },
  "language_info": {
   "codemirror_mode": {
    "name": "ipython",
    "version": 3
   },
   "file_extension": ".py",
   "mimetype": "text/x-python",
   "name": "python",
   "nbconvert_exporter": "python",
   "pygments_lexer": "ipython3",
   "version": "3.5.4"
  }
 },
 "nbformat": 4,
 "nbformat_minor": 2
}
