{
 "cells": [
  {
   "cell_type": "code",
   "execution_count": 1,
   "metadata": {},
   "outputs": [],
   "source": [
    "import webbrowser\n",
    "import time"
   ]
  },
  {
   "cell_type": "code",
   "execution_count": 2,
   "metadata": {},
   "outputs": [
    {
     "name": "stdout",
     "output_type": "stream",
     "text": [
      "1\n",
      "2\n",
      "3\n",
      "4\n"
     ]
    }
   ],
   "source": [
    "#take a break Function\n",
    "numBreaks=0\n",
    "while(numBreaks<4):\n",
    "    time.sleep(1)\n",
    "    #webbrowser.open(\"https://www.youtube.com/watch?v=SgvCMxYPOFs\")\n",
    "    numBreaks=numBreaks+1\n",
    "    print(numBreaks)"
   ]
  },
  {
   "cell_type": "code",
   "execution_count": 4,
   "metadata": {},
   "outputs": [],
   "source": [
    "#Secret message\n",
    "import os\n",
    "import re\n",
    "\n",
    "def rename_files():\n",
    "    file_list=os.listdir(r\"prank\")\n",
    "    #print(file_list)\n",
    "    os.chdir(r\"prank\")\n",
    "    for file_name in file_list:\n",
    "        os.rename(file_name,re.sub('[0-9]*','',file_name))\n",
    "\n",
    "rename_files()"
   ]
  },
  {
   "cell_type": "code",
   "execution_count": 5,
   "metadata": {},
   "outputs": [
    {
     "name": "stdout",
     "output_type": "stream",
     "text": [
      "/Users/vs0929/Desktop/udacity/PythonReresher/prank\n"
     ]
    }
   ],
   "source": [
    "print(os.getcwd())"
   ]
  }
 ],
 "metadata": {
  "kernelspec": {
   "display_name": "Python [conda env:aind]",
   "language": "python",
   "name": "conda-env-aind-py"
  },
  "language_info": {
   "codemirror_mode": {
    "name": "ipython",
    "version": 3
   },
   "file_extension": ".py",
   "mimetype": "text/x-python",
   "name": "python",
   "nbconvert_exporter": "python",
   "pygments_lexer": "ipython3",
   "version": "3.5.4"
  }
 },
 "nbformat": 4,
 "nbformat_minor": 2
}
